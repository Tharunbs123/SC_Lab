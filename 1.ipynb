{
 "cells": [
  {
   "cell_type": "code",
   "execution_count": 3,
   "id": "4be93821-5776-4f1c-92be-ba4646b2a6a8",
   "metadata": {},
   "outputs": [
    {
     "name": "stdout",
     "output_type": "stream",
     "text": [
      "Input: Temperature = Low Temp, Humidity = Dry\n",
      "Membership values for Cooling Actions: [0.7, 0.4, 0.3]\n",
      "The system selects: Low Cooling with a membership value of 0.70\n"
     ]
    }
   ],
   "source": [
    "import numpy as np\n",
    "\n",
    "R = {\n",
    "    \"Low Temp\": [0.8, 0.5, 0.3],\n",
    "    \"Medium Temp\": [0.6, 0.7, 0.4],\n",
    "    \"High Temp\": [0.3, 0.6, 0.9]\n",
    "}\n",
    "\n",
    "S = {\n",
    "    \"Dry\": [0.7, 0.4, 0.3],\n",
    "    \"Normal\": [0.5, 0.6, 0.4],\n",
    "    \"Humid\": [0.2, 0.5, 0.8]\n",
    "}\n",
    "\n",
    "temperature_input = \"Low Temp\" \n",
    "humidity_input = \"Dry\" \n",
    "\n",
    "mu_R = R[temperature_input]\n",
    "mu_S = S[humidity_input]\n",
    "\n",
    "def min_max_composition(mu_R, mu_S):\n",
    "    result = []\n",
    "\n",
    "    for z in range(3):  # We have 3 cooling actions\n",
    "        min_value = min(mu_R[0], mu_S[0]) if z == 0 else \\\n",
    "                    min(mu_R[1], mu_S[1]) if z == 1 else \\\n",
    "                    min(mu_R[2], mu_S[2])\n",
    "        result.append(min_value)\n",
    "\n",
    "    return result\n",
    "\n",
    "composed_result = min_max_composition(mu_R, mu_S)\n",
    "\n",
    "cooling_action = [\"Low Cooling\", \"Medium Cooling\", \"High Cooling\"]\n",
    "max_membership_value = max(composed_result)\n",
    "action_index = composed_result.index(max_membership_value)\n",
    "\n",
    "print(f\"Input: Temperature = {temperature_input}, Humidity = {humidity_input}\")\n",
    "print(f\"Membership values for Cooling Actions: {composed_result}\")\n",
    "print(f\"The system selects: {cooling_action[action_index]} with a membership value of {max_membership_value:.2f}\")"
   ]
  }
 ],
 "metadata": {
  "kernelspec": {
   "display_name": "Python (integrate_gpu_venv)",
   "language": "python",
   "name": "integrate_gpu_venv"
  },
  "language_info": {
   "codemirror_mode": {
    "name": "ipython",
    "version": 3
   },
   "file_extension": ".py",
   "mimetype": "text/x-python",
   "name": "python",
   "nbconvert_exporter": "python",
   "pygments_lexer": "ipython3",
   "version": "3.12.10"
  }
 },
 "nbformat": 4,
 "nbformat_minor": 5
}
